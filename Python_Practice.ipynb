{
  "nbformat": 4,
  "nbformat_minor": 0,
  "metadata": {
    "colab": {
      "name": "파이썬_연습.ipynb",
      "version": "0.3.2",
      "provenance": []
    },
    "kernelspec": {
      "name": "python3",
      "display_name": "Python 3"
    }
  },
  "cells": [
    {
      "metadata": {
        "id": "t0pfa54uKPd1",
        "colab_type": "code",
        "colab": {}
      },
      "cell_type": "code",
      "source": [
        "# 기본 사용법\n",
        "\n",
        "# CTRL + MA (above)\n",
        "# CTRL + MB (below)\n",
        "# CTRL + MD (delete)\n",
        "# CTRL + ENTER (실행)\n",
        "# CTRL + / \n",
        "# Indentation 주의"
      ],
      "execution_count": 0,
      "outputs": []
    },
    {
      "metadata": {
        "id": "oUBglKve7RxO",
        "colab_type": "text"
      },
      "cell_type": "markdown",
      "source": [
        "#1장"
      ]
    },
    {
      "metadata": {
        "id": "wCXESYpLwWS0",
        "colab_type": "code",
        "outputId": "0b4bf176-7c18-48f4-851e-277d801dd60c",
        "colab": {
          "base_uri": "https://localhost:8080/",
          "height": 35
        }
      },
      "cell_type": "code",
      "source": [
        "33+55"
      ],
      "execution_count": 0,
      "outputs": [
        {
          "output_type": "execute_result",
          "data": {
            "text/plain": [
              "88"
            ]
          },
          "metadata": {
            "tags": []
          },
          "execution_count": 1
        }
      ]
    },
    {
      "metadata": {
        "id": "Xotj7hkX7Oyv",
        "colab_type": "code",
        "outputId": "726e8edc-a2bf-4da3-8880-9f7cdfcbf3bf",
        "colab": {
          "base_uri": "https://localhost:8080/",
          "height": 34
        }
      },
      "cell_type": "code",
      "source": [
        "7*5/2"
      ],
      "execution_count": 0,
      "outputs": [
        {
          "output_type": "execute_result",
          "data": {
            "text/plain": [
              "17.5"
            ]
          },
          "metadata": {
            "tags": []
          },
          "execution_count": 2
        }
      ]
    },
    {
      "metadata": {
        "id": "kD8FaJoL7Q8q",
        "colab_type": "code",
        "outputId": "98e69891-fba4-4ca1-be01-ec7616ba010d",
        "colab": {
          "base_uri": "https://localhost:8080/",
          "height": 34
        }
      },
      "cell_type": "code",
      "source": [
        "9 * (5 - 7) /3"
      ],
      "execution_count": 0,
      "outputs": [
        {
          "output_type": "execute_result",
          "data": {
            "text/plain": [
              "-6.0"
            ]
          },
          "metadata": {
            "tags": []
          },
          "execution_count": 3
        }
      ]
    },
    {
      "metadata": {
        "id": "uzNoEcj67W6o",
        "colab_type": "code",
        "outputId": "f7ff3904-01f9-4113-9ce4-26b9928dd9e2",
        "colab": {
          "base_uri": "https://localhost:8080/",
          "height": 34
        }
      },
      "cell_type": "code",
      "source": [
        "print(\"3 + 5 = \", 8)"
      ],
      "execution_count": 0,
      "outputs": [
        {
          "output_type": "stream",
          "text": [
            "3 + 5 =  8\n"
          ],
          "name": "stdout"
        }
      ]
    },
    {
      "metadata": {
        "id": "oEE_QLvk731X",
        "colab_type": "code",
        "outputId": "147b0e28-fd75-4ab6-aa65-7e4b8a109d5e",
        "colab": {
          "base_uri": "https://localhost:8080/",
          "height": 34
        }
      },
      "cell_type": "code",
      "source": [
        "print(1,2,3,\"Hello\", \"World\")"
      ],
      "execution_count": 0,
      "outputs": [
        {
          "output_type": "stream",
          "text": [
            "3 2 3 Hello World\n"
          ],
          "name": "stdout"
        }
      ]
    },
    {
      "metadata": {
        "id": "oSbGEaTw79bv",
        "colab_type": "code",
        "outputId": "ac328c8f-9070-4bde-898b-cd9e0fff1372",
        "colab": {
          "base_uri": "https://localhost:8080/",
          "height": 34
        }
      },
      "cell_type": "code",
      "source": [
        "print(\"3 + 5 = \", 3 + 5)"
      ],
      "execution_count": 0,
      "outputs": [
        {
          "output_type": "stream",
          "text": [
            "3 + 5 =  8\n"
          ],
          "name": "stdout"
        }
      ]
    },
    {
      "metadata": {
        "id": "X74g9Q3R8hRO",
        "colab_type": "code",
        "colab": {}
      },
      "cell_type": "code",
      "source": [
        "# 메모리 공간에 30을 저장하고, 그 공간에다 val이라는 이름을 붙임\n",
        "# 30(오른쪽)을 val(왼쪽)에 대입(할당)\n",
        "\n",
        "val = 30"
      ],
      "execution_count": 0,
      "outputs": []
    },
    {
      "metadata": {
        "id": "9-EZGn-Z9EEE",
        "colab_type": "code",
        "outputId": "ecdc41d7-f751-4185-d91e-fff5796c1511",
        "colab": {
          "base_uri": "https://localhost:8080/",
          "height": 34
        }
      },
      "cell_type": "code",
      "source": [
        "x = 3 * 50\n",
        "y = x + 120\n",
        "z = y /3\n",
        "print(z)"
      ],
      "execution_count": 0,
      "outputs": [
        {
          "output_type": "stream",
          "text": [
            "90.0\n"
          ],
          "name": "stdout"
        }
      ]
    },
    {
      "metadata": {
        "id": "cRdCMgdG93jU",
        "colab_type": "code",
        "colab": {}
      },
      "cell_type": "code",
      "source": [
        "v1 = 25\n",
        "v2 = 30\n",
        "print(v1 + v2)"
      ],
      "execution_count": 0,
      "outputs": []
    },
    {
      "metadata": {
        "id": "jTI1wzs4-HQD",
        "colab_type": "code",
        "colab": {}
      },
      "cell_type": "code",
      "source": [
        "# 이름표 이동\n",
        "# 오른쪽을 왼쪽에 대입\n",
        "\n",
        "x = 100\n",
        "print(x)\n",
        "x = 3.14\n",
        "print(x)\n",
        "x = \"Hi~\"\n",
        "print(x)"
      ],
      "execution_count": 0,
      "outputs": []
    },
    {
      "metadata": {
        "id": "jyPY7qq7-bAK",
        "colab_type": "code",
        "outputId": "d1a8dceb-9c18-455c-a749-49caecf7cd9c",
        "colab": {
          "base_uri": "https://localhost:8080/",
          "height": 34
        }
      },
      "cell_type": "code",
      "source": [
        "x = 3 * 50 \n",
        "x = x + 120\n",
        "x = x / 3\n",
        "print(x)"
      ],
      "execution_count": 0,
      "outputs": [
        {
          "output_type": "stream",
          "text": [
            "90.0\n"
          ],
          "name": "stdout"
        }
      ]
    },
    {
      "metadata": {
        "id": "rZ3Da1wX8MVY",
        "colab_type": "code",
        "outputId": "5a1b6f99-d7ca-4312-bcc4-ba780e97fca6",
        "colab": {
          "base_uri": "https://localhost:8080/",
          "height": 52
        }
      },
      "cell_type": "code",
      "source": [
        ""
      ],
      "execution_count": 0,
      "outputs": [
        {
          "output_type": "stream",
          "text": [
            "진대용\n",
            "1+2+3+4+5+6+7+8+9+10= 55\n"
          ],
          "name": "stdout"
        }
      ]
    },
    {
      "metadata": {
        "id": "APSw71W8_jXY",
        "colab_type": "code",
        "colab": {}
      },
      "cell_type": "code",
      "source": [
        "# 연습문제 01-1\n",
        "# 문제1 : 자신의 이름 출력\n",
        "# 문제2 : 1-10까지의 합\n",
        "\n",
        "print(\"진대용\")\n",
        "print(\"1+2+3+4+5+6+7+8+9+10\",1+2+3+4+5+6+7+8+9+10)"
      ],
      "execution_count": 0,
      "outputs": []
    },
    {
      "metadata": {
        "id": "ueFWvB1J_uQJ",
        "colab_type": "code",
        "outputId": "55075ef1-291a-46ad-8702-815fa89dae82",
        "colab": {
          "base_uri": "https://localhost:8080/",
          "height": 34
        }
      },
      "cell_type": "code",
      "source": [
        "x,y = 121, 797\n",
        "print(x,y)"
      ],
      "execution_count": 0,
      "outputs": [
        {
          "output_type": "stream",
          "text": [
            "121 797\n"
          ],
          "name": "stdout"
        }
      ]
    },
    {
      "metadata": {
        "id": "G3sEzQDgB2R2",
        "colab_type": "code",
        "outputId": "2b73aa79-981f-4d85-c104-5691359a76da",
        "colab": {
          "base_uri": "https://localhost:8080/",
          "height": 34
        }
      },
      "cell_type": "code",
      "source": [
        "x = y\n",
        "print(x,y)"
      ],
      "execution_count": 0,
      "outputs": [
        {
          "output_type": "stream",
          "text": [
            "797 797\n"
          ],
          "name": "stdout"
        }
      ]
    },
    {
      "metadata": {
        "id": "5nnlg9OkCHbF",
        "colab_type": "code",
        "outputId": "152bdcc6-7956-4999-daeb-972d4e263af3",
        "colab": {
          "base_uri": "https://localhost:8080/",
          "height": 34
        }
      },
      "cell_type": "code",
      "source": [
        "x, y = 121, 797\n",
        "x, y = y, x\n",
        "print(x,y)"
      ],
      "execution_count": 0,
      "outputs": [
        {
          "output_type": "stream",
          "text": [
            "797 121\n"
          ],
          "name": "stdout"
        }
      ]
    },
    {
      "metadata": {
        "id": "1OqmLmWSyzIH",
        "colab_type": "text"
      },
      "cell_type": "markdown",
      "source": [
        "#2장 함수"
      ]
    },
    {
      "metadata": {
        "id": "FZQq9f5eCU5b",
        "colab_type": "code",
        "outputId": "2551ceaa-e456-4e5a-86e3-cdfbb5e05a7b",
        "colab": {
          "base_uri": "https://localhost:8080/",
          "height": 122
        }
      },
      "cell_type": "code",
      "source": [
        "# 함수\n",
        "\n",
        "def great():\n",
        "  print(\"반갑습니다\")\n",
        "  print(\"파이썬 세계로 오신걸 환영합니다.\")\n",
        "\n",
        "great()\n",
        "great()\n",
        "great()"
      ],
      "execution_count": 0,
      "outputs": [
        {
          "output_type": "stream",
          "text": [
            "반갑습니다\n",
            "파이썬 세계로 오신걸 환영합니다.\n",
            "반갑습니다\n",
            "파이썬 세계로 오신걸 환영합니다.\n",
            "반갑습니다\n",
            "파이썬 세계로 오신걸 환영합니다.\n"
          ],
          "name": "stdout"
        }
      ]
    },
    {
      "metadata": {
        "id": "XYWkgt0jCtzT",
        "colab_type": "code",
        "colab": {
          "base_uri": "https://localhost:8080/",
          "height": 87
        },
        "outputId": "f95fd380-c8e1-43a0-edf0-1b866e811c26"
      },
      "cell_type": "code",
      "source": [
        "def great2(name):\n",
        "  print(\"반갑습니다\",name)\n",
        "  print(name, \"님은 파이썬의 세계로 오셨습니다\")\n",
        "  \n",
        "great2(\"John\")\n",
        "great2(\"Yoon\")"
      ],
      "execution_count": 1,
      "outputs": [
        {
          "output_type": "stream",
          "text": [
            "반갑습니다 John\n",
            "John 님은 파이썬의 세계로 오셨습니다\n",
            "반갑습니다 Yoon\n",
            "Yoon 님은 파이썬의 세계로 오셨습니다\n"
          ],
          "name": "stdout"
        }
      ]
    },
    {
      "metadata": {
        "id": "nsPhEzjnEaEf",
        "colab_type": "code",
        "outputId": "8d530740-4a63-4936-f013-c396b2d0da1f",
        "colab": {
          "base_uri": "https://localhost:8080/",
          "height": 34
        }
      },
      "cell_type": "code",
      "source": [
        "def adder(n1,n2):\n",
        "  print(\"n1 + n2 = \",n1+n2)\n",
        "  \n",
        "adder(10,20)"
      ],
      "execution_count": 0,
      "outputs": [
        {
          "output_type": "stream",
          "text": [
            "n1 + n2 =  30\n"
          ],
          "name": "stdout"
        }
      ]
    },
    {
      "metadata": {
        "id": "y-pBHGd0E_VH",
        "colab_type": "code",
        "outputId": "d76ccfb0-c2cd-4f6f-9b14-2d370ba3f2aa",
        "colab": {
          "base_uri": "https://localhost:8080/",
          "height": 69
        }
      },
      "cell_type": "code",
      "source": [
        "# 연습문제 2-2\n",
        "\n",
        "# 문제1 : 매개변수를 통해 문자열을 전달받아 3번 출력\n",
        "\n",
        "def print_str(x):\n",
        "  print(x)\n",
        "  print(x)\n",
        "  print(x)\n",
        "  \n",
        "print_str(\"안녕?\")"
      ],
      "execution_count": 0,
      "outputs": [
        {
          "output_type": "stream",
          "text": [
            "안녕?\n",
            "안녕?\n",
            "안녕?\n"
          ],
          "name": "stdout"
        }
      ]
    },
    {
      "metadata": {
        "id": "YkBla8T3FuP1",
        "colab_type": "code",
        "outputId": "2aadd2f4-afe3-47c8-bba6-b1b5ee893170",
        "colab": {
          "base_uri": "https://localhost:8080/",
          "height": 34
        }
      },
      "cell_type": "code",
      "source": [
        "def adder(n1,n2):\n",
        "  sum = n1 + n2\n",
        "  return sum\n",
        "\n",
        "result = adder(10,20)\n",
        "print(result)  "
      ],
      "execution_count": 0,
      "outputs": [
        {
          "output_type": "stream",
          "text": [
            "30\n"
          ],
          "name": "stdout"
        }
      ]
    },
    {
      "metadata": {
        "id": "F-41ySSxJUK_",
        "colab_type": "code",
        "outputId": "1bc0b5c0-e2ba-4bbd-ab93-e7fae7e3ca89",
        "colab": {
          "base_uri": "https://localhost:8080/",
          "height": 133
        }
      },
      "cell_type": "code",
      "source": [
        "# 연습문제 2-3\n",
        "\n",
        "# 문제2 : 두개의 숫자를 받아 평균계산\n",
        "\n",
        "def mean(n1,n2):\n",
        "  m = (n1 + n2) / 2\n",
        "  return m\n",
        "\n",
        "result = mean(10,20)\n",
        "print(result)\n",
        "\n",
        "# 참고 : 주석 (CTRL + /)"
      ],
      "execution_count": 0,
      "outputs": [
        {
          "output_type": "error",
          "ename": "IndentationError",
          "evalue": "ignored",
          "traceback": [
            "\u001b[0;36m  File \u001b[0;32m\"<ipython-input-33-31059b1170ff>\"\u001b[0;36m, line \u001b[0;32m3\u001b[0m\n\u001b[0;31m    m = (n1 + n2) / 2\u001b[0m\n\u001b[0m    ^\u001b[0m\n\u001b[0;31mIndentationError\u001b[0m\u001b[0;31m:\u001b[0m expected an indented block\n"
          ]
        }
      ]
    },
    {
      "metadata": {
        "id": "LgQOvh3oKxwM",
        "colab_type": "code",
        "colab": {}
      },
      "cell_type": "code",
      "source": [
        "# 2-4 - 7 실습생략"
      ],
      "execution_count": 0,
      "outputs": []
    },
    {
      "metadata": {
        "id": "PYQOMg1TK1uN",
        "colab_type": "code",
        "outputId": "4c6b10e9-02a9-4164-8169-c86d9e61d6d5",
        "colab": {
          "base_uri": "https://localhost:8080/",
          "height": 87
        }
      },
      "cell_type": "code",
      "source": [
        "# 2-8 main함수가 있는 방식으로 예제 작성\n",
        "\n",
        "def adder(num1,num2):\n",
        "  return num1 + num2\n",
        "def minus(num1,num2):\n",
        "  return num1 - num2\n",
        "def mul(num1,num2):\n",
        "  return num1 * num2\n",
        "def div(num1,num2):\n",
        "  return num1 * num2\n",
        "\n",
        "def main():\n",
        "  print(adder(5,3))\n",
        "  print(minus(5,3))\n",
        "  print(mul(5,3))\n",
        "  print(div(5,3))\n",
        "  \n",
        "main()"
      ],
      "execution_count": 0,
      "outputs": [
        {
          "output_type": "stream",
          "text": [
            "8\n",
            "2\n",
            "15\n",
            "15\n"
          ],
          "name": "stdout"
        }
      ]
    },
    {
      "metadata": {
        "id": "1ZsTuN0E1aO-",
        "colab_type": "text"
      },
      "cell_type": "markdown",
      "source": [
        "#3장"
      ]
    },
    {
      "metadata": {
        "id": "8do9A81UNgsD",
        "colab_type": "code",
        "outputId": "0c484bb4-8cd9-4ca9-e8f1-b3c7251192f9",
        "colab": {
          "base_uri": "https://localhost:8080/",
          "height": 52
        }
      },
      "cell_type": "code",
      "source": [
        "str = input(\"몇살이세요? : \")\n",
        "print(str)"
      ],
      "execution_count": 0,
      "outputs": [
        {
          "output_type": "stream",
          "text": [
            "몇살이세요? : 20\n",
            "20\n"
          ],
          "name": "stdout"
        }
      ]
    },
    {
      "metadata": {
        "id": "x7xF1_-wOadO",
        "colab_type": "code",
        "outputId": "966d6144-9ab6-4304-a056-d9db4d5e0ac2",
        "colab": {
          "base_uri": "https://localhost:8080/",
          "height": 34
        }
      },
      "cell_type": "code",
      "source": [
        "num = \"31\" + \"24\"\n",
        "print(num)"
      ],
      "execution_count": 0,
      "outputs": [
        {
          "output_type": "stream",
          "text": [
            "3124\n"
          ],
          "name": "stdout"
        }
      ]
    },
    {
      "metadata": {
        "id": "6MD0tAFROnw9",
        "colab_type": "code",
        "outputId": "339aeab4-32db-4c03-98fa-f64b7bf94309",
        "colab": {
          "base_uri": "https://localhost:8080/",
          "height": 52
        }
      },
      "cell_type": "code",
      "source": [
        "# 문제 3-1 : 2개의 입력을 받아 합치기\n",
        "\n",
        "def concat(s1,s2):\n",
        "  return s1 + s2\n",
        "\n",
        "print(concat(\"안녕\",\"하세요\"))\n",
        "print(concat(\"12\",\"34\"))"
      ],
      "execution_count": 0,
      "outputs": [
        {
          "output_type": "stream",
          "text": [
            "안녕하세요\n",
            "1234\n"
          ],
          "name": "stdout"
        }
      ]
    },
    {
      "metadata": {
        "id": "jc7J08QMPCb1",
        "colab_type": "code",
        "outputId": "e766d0df-89c4-4aad-8f5e-d0d32445a6f2",
        "colab": {
          "base_uri": "https://localhost:8080/",
          "height": 52
        }
      },
      "cell_type": "code",
      "source": [
        "year = input(\"This year: \")\n",
        "# year = eval(input(\"This year: \"))\n",
        "# year = int(input(\"This year: \")) # int : 정수형, float : 소수형\n",
        "\n",
        "print(year+1)"
      ],
      "execution_count": 4,
      "outputs": [
        {
          "output_type": "stream",
          "text": [
            "This year: 2000\n",
            "20001\n"
          ],
          "name": "stdout"
        }
      ]
    },
    {
      "metadata": {
        "id": "s1ISlxtbQAHS",
        "colab_type": "code",
        "outputId": "63c4134a-85d4-4a88-b096-ecc21de57536",
        "colab": {
          "base_uri": "https://localhost:8080/",
          "height": 87
        }
      },
      "cell_type": "code",
      "source": [
        "# 0~3 까지 출력\n",
        "\n",
        "for i in [0,1,2,3]:\n",
        "  print(i)"
      ],
      "execution_count": 5,
      "outputs": [
        {
          "output_type": "stream",
          "text": [
            "0\n",
            "1\n",
            "2\n",
            "3\n"
          ],
          "name": "stdout"
        }
      ]
    },
    {
      "metadata": {
        "id": "8SYT9r0YQXVd",
        "colab_type": "code",
        "outputId": "01f33f7f-b43e-4c35-f875-7079419c50d0",
        "colab": {
          "base_uri": "https://localhost:8080/",
          "height": 34
        }
      },
      "cell_type": "code",
      "source": [
        "# 1에서 10까지 더하기\n",
        "\n",
        "sum = 0\n",
        "for i in [0,1,2,3,4,5,6,7,8,9,10]:\n",
        "  sum = sum + i\n",
        "print(sum)"
      ],
      "execution_count": 7,
      "outputs": [
        {
          "output_type": "stream",
          "text": [
            "55\n"
          ],
          "name": "stdout"
        }
      ]
    },
    {
      "metadata": {
        "id": "VoGgiw_GQ6Ux",
        "colab_type": "code",
        "outputId": "6014d1e8-44d7-488d-e02e-16c915bc101b",
        "colab": {
          "base_uri": "https://localhost:8080/",
          "height": 174
        }
      },
      "cell_type": "code",
      "source": [
        "# 연습문제 3-3 : 구구단 7단을 모두 출력\n",
        "\n",
        "for i in [1,2,3,4,5,6,7,8,9]:\n",
        "  #print(i*7)\n",
        "  print(i,\"* 7 =\",i*7)"
      ],
      "execution_count": 0,
      "outputs": [
        {
          "output_type": "stream",
          "text": [
            "1 * 7 = 7\n",
            "2 * 7 = 14\n",
            "3 * 7 = 21\n",
            "4 * 7 = 28\n",
            "5 * 7 = 35\n",
            "6 * 7 = 42\n",
            "7 * 7 = 49\n",
            "8 * 7 = 56\n",
            "9 * 7 = 63\n"
          ],
          "name": "stdout"
        }
      ]
    },
    {
      "metadata": {
        "id": "38QKaKpeR7a4",
        "colab_type": "code",
        "outputId": "bbab1c3e-7b9f-4df6-9ec4-74ad2f071683",
        "colab": {
          "base_uri": "https://localhost:8080/",
          "height": 34
        }
      },
      "cell_type": "code",
      "source": [
        "list(range(1,10))"
      ],
      "execution_count": 0,
      "outputs": [
        {
          "output_type": "execute_result",
          "data": {
            "text/plain": [
              "[1, 2, 3, 4, 5, 6, 7, 8, 9]"
            ]
          },
          "metadata": {
            "tags": []
          },
          "execution_count": 65
        }
      ]
    },
    {
      "metadata": {
        "id": "WbdJtTVNRtb4",
        "colab_type": "code",
        "outputId": "bc31dfc4-b411-4620-9bed-cb183f6e6403",
        "colab": {
          "base_uri": "https://localhost:8080/",
          "height": 174
        }
      },
      "cell_type": "code",
      "source": [
        "for i in range(1,10):\n",
        "  #print(i*7)\n",
        "  print(i,\"* 7 =\",i*7)"
      ],
      "execution_count": 0,
      "outputs": [
        {
          "output_type": "stream",
          "text": [
            "1 * 7 = 7\n",
            "2 * 7 = 14\n",
            "3 * 7 = 21\n",
            "4 * 7 = 28\n",
            "5 * 7 = 35\n",
            "6 * 7 = 42\n",
            "7 * 7 = 49\n",
            "8 * 7 = 56\n",
            "9 * 7 = 63\n"
          ],
          "name": "stdout"
        }
      ]
    },
    {
      "metadata": {
        "id": "9Dnn_i_qSiSG",
        "colab_type": "code",
        "outputId": "ba53d068-12b4-4b30-a393-8c0493fddc8d",
        "colab": {
          "base_uri": "https://localhost:8080/",
          "height": 192
        }
      },
      "cell_type": "code",
      "source": [
        "for i in range(10):\n",
        "  #print(i*7)\n",
        "  print(i,\"* 7 =\",i*7)"
      ],
      "execution_count": 0,
      "outputs": [
        {
          "output_type": "stream",
          "text": [
            "0 * 7 = 0\n",
            "1 * 7 = 7\n",
            "2 * 7 = 14\n",
            "3 * 7 = 21\n",
            "4 * 7 = 28\n",
            "5 * 7 = 35\n",
            "6 * 7 = 42\n",
            "7 * 7 = 49\n",
            "8 * 7 = 56\n",
            "9 * 7 = 63\n"
          ],
          "name": "stdout"
        }
      ]
    },
    {
      "metadata": {
        "id": "nolJ41tGSkpP",
        "colab_type": "code",
        "outputId": "3b6f54fe-7a4e-4d47-8849-c238d1e43878",
        "colab": {
          "base_uri": "https://localhost:8080/",
          "height": 34
        }
      },
      "cell_type": "code",
      "source": [
        "# 연습문제 3-3\n",
        "\n",
        "# 문제 1 : 1,3,5,7,9 합 출력\n",
        "\n",
        "sum = 0 \n",
        "for i in [1,3,5,7,9]:\n",
        "  sum =  sum + i\n",
        "  \n",
        "print(sum)"
      ],
      "execution_count": 0,
      "outputs": [
        {
          "output_type": "stream",
          "text": [
            "25\n"
          ],
          "name": "stdout"
        }
      ]
    },
    {
      "metadata": {
        "id": "6GWaGNdpS3qu",
        "colab_type": "code",
        "outputId": "353e8b56-e6a0-4772-aff9-f7992869e959",
        "colab": {
          "base_uri": "https://localhost:8080/",
          "height": 34
        }
      },
      "cell_type": "code",
      "source": [
        "sum = 0 \n",
        "for i in range(1,10,2):\n",
        "  sum =  sum + i\n",
        "  \n",
        "print(sum)"
      ],
      "execution_count": 0,
      "outputs": [
        {
          "output_type": "stream",
          "text": [
            "12\n"
          ],
          "name": "stdout"
        }
      ]
    },
    {
      "metadata": {
        "id": "qnY0ONgO2dgx",
        "colab_type": "text"
      },
      "cell_type": "markdown",
      "source": [
        "# 4장"
      ]
    },
    {
      "metadata": {
        "id": "GPhh29Q4TOXF",
        "colab_type": "code",
        "colab": {}
      },
      "cell_type": "code",
      "source": [
        "data1 = 1  # 정수 1을 data1에 저장\n",
        "data2 = 2.4 # 실수 2.4를 data2에 저장\n",
        "data3 = \"안녕\" #문자열 안녕을 data3에 저장"
      ],
      "execution_count": 0,
      "outputs": []
    },
    {
      "metadata": {
        "id": "PDIxGMpZTeoU",
        "colab_type": "code",
        "outputId": "37451676-1309-48ba-cb29-52834440cc86",
        "colab": {
          "base_uri": "https://localhost:8080/",
          "height": 69
        }
      },
      "cell_type": "code",
      "source": [
        "print(type(1))\n",
        "print(type(2.4))\n",
        "print(type(data3))\n",
        "\n",
        "\n",
        "print(type(data1))\n",
        "print(type(data2))\n",
        "print(type(data3))"
      ],
      "execution_count": 0,
      "outputs": [
        {
          "output_type": "stream",
          "text": [
            "<class 'int'>\n",
            "<class 'float'>\n",
            "<class 'str'>\n"
          ],
          "name": "stdout"
        }
      ]
    },
    {
      "metadata": {
        "id": "Bvg3U3-aUOCM",
        "colab_type": "code",
        "outputId": "66bd87c7-9ef1-4f01-e1b7-e8b985413ae1",
        "colab": {
          "base_uri": "https://localhost:8080/",
          "height": 34
        }
      },
      "cell_type": "code",
      "source": [
        "# 정수 / 정수 = 실수값\n",
        "\n",
        "5 / 2"
      ],
      "execution_count": 0,
      "outputs": [
        {
          "output_type": "execute_result",
          "data": {
            "text/plain": [
              "2.5"
            ]
          },
          "metadata": {
            "tags": []
          },
          "execution_count": 78
        }
      ]
    },
    {
      "metadata": {
        "id": "0dSmbozBUKVC",
        "colab_type": "code",
        "outputId": "ad45dc21-2b7b-4469-9bad-a78f13a43500",
        "colab": {
          "base_uri": "https://localhost:8080/",
          "height": 34
        }
      },
      "cell_type": "code",
      "source": [
        "5 // 2"
      ],
      "execution_count": 0,
      "outputs": [
        {
          "output_type": "execute_result",
          "data": {
            "text/plain": [
              "2"
            ]
          },
          "metadata": {
            "tags": []
          },
          "execution_count": 79
        }
      ]
    },
    {
      "metadata": {
        "id": "tlAvl5-sUMDE",
        "colab_type": "code",
        "outputId": "5b8d4c83-2a50-48fe-ea25-bcec2ce931bf",
        "colab": {
          "base_uri": "https://localhost:8080/",
          "height": 34
        }
      },
      "cell_type": "code",
      "source": [
        "5 % 2"
      ],
      "execution_count": 0,
      "outputs": [
        {
          "output_type": "execute_result",
          "data": {
            "text/plain": [
              "1"
            ]
          },
          "metadata": {
            "tags": []
          },
          "execution_count": 80
        }
      ]
    },
    {
      "metadata": {
        "id": "hE5HzovWUNcq",
        "colab_type": "code",
        "outputId": "75fab2bb-0666-4072-d19c-e5ea1e2ee4d1",
        "colab": {
          "base_uri": "https://localhost:8080/",
          "height": 34
        }
      },
      "cell_type": "code",
      "source": [
        "2 ** 4 "
      ],
      "execution_count": 0,
      "outputs": [
        {
          "output_type": "execute_result",
          "data": {
            "text/plain": [
              "16"
            ]
          },
          "metadata": {
            "tags": []
          },
          "execution_count": 81
        }
      ]
    },
    {
      "metadata": {
        "id": "qAEnT84KUhaz",
        "colab_type": "code",
        "outputId": "85a6b256-4975-4dd0-8bd1-e6832e4fc25a",
        "colab": {
          "base_uri": "https://localhost:8080/",
          "height": 34
        }
      },
      "cell_type": "code",
      "source": [
        "# 타입 변환 : type casting\n",
        "\n",
        "num = 10\n",
        "num = float(num)\n",
        "type(num)\n",
        "print(num)"
      ],
      "execution_count": 0,
      "outputs": [
        {
          "output_type": "stream",
          "text": [
            "10.0\n"
          ],
          "name": "stdout"
        }
      ]
    },
    {
      "metadata": {
        "id": "_KlgRvGqUwhy",
        "colab_type": "code",
        "colab": {}
      },
      "cell_type": "code",
      "source": [
        "num = \"10\"\n",
        "#num = \"10안녕\"\n",
        "num = float(num)"
      ],
      "execution_count": 0,
      "outputs": []
    },
    {
      "metadata": {
        "id": "k53Xr4jEU8qi",
        "colab_type": "code",
        "outputId": "7b3428be-4382-4bef-a48a-88d701d62959",
        "colab": {
          "base_uri": "https://localhost:8080/",
          "height": 52
        }
      },
      "cell_type": "code",
      "source": [
        "num = int(input(\"좋아한는 숫자는 : \"))\n",
        "print(num)"
      ],
      "execution_count": 0,
      "outputs": [
        {
          "output_type": "stream",
          "text": [
            "좋아한는 숫자는 : 3\n",
            "3\n"
          ],
          "name": "stdout"
        }
      ]
    },
    {
      "metadata": {
        "id": "kPnq0yQEVZQJ",
        "colab_type": "code",
        "outputId": "3c3b3a62-4b47-46ac-9f76-5cfb725fc643",
        "colab": {
          "base_uri": "https://localhost:8080/",
          "height": 34
        }
      },
      "cell_type": "code",
      "source": [
        "# 복합 대입 연산자\n",
        "\n",
        "num =10\n",
        "num = num + 1\n",
        "num += 1\n",
        "print(num)"
      ],
      "execution_count": 0,
      "outputs": [
        {
          "output_type": "stream",
          "text": [
            "12\n"
          ],
          "name": "stdout"
        }
      ]
    },
    {
      "metadata": {
        "id": "Hvsbcp7QYJtU",
        "colab_type": "code",
        "outputId": "8eeed668-be42-4031-dad9-f751adbe1181",
        "colab": {
          "base_uri": "https://localhost:8080/",
          "height": 34
        }
      },
      "cell_type": "code",
      "source": [
        "# 7장\n",
        "\n",
        "True"
      ],
      "execution_count": 0,
      "outputs": [
        {
          "output_type": "execute_result",
          "data": {
            "text/plain": [
              "True"
            ]
          },
          "metadata": {
            "tags": []
          },
          "execution_count": 94
        }
      ]
    },
    {
      "metadata": {
        "id": "WDpfvYjhY6PC",
        "colab_type": "code",
        "outputId": "69deab97-4bb4-4ec5-c609-805d4bf141fc",
        "colab": {
          "base_uri": "https://localhost:8080/",
          "height": 34
        }
      },
      "cell_type": "code",
      "source": [
        "False"
      ],
      "execution_count": 0,
      "outputs": [
        {
          "output_type": "execute_result",
          "data": {
            "text/plain": [
              "False"
            ]
          },
          "metadata": {
            "tags": []
          },
          "execution_count": 3
        }
      ]
    },
    {
      "metadata": {
        "id": "RM4OKarrHc4S",
        "colab_type": "code",
        "outputId": "6aad3ac2-34cd-4437-e1f0-f896928faeff",
        "colab": {
          "base_uri": "https://localhost:8080/",
          "height": 34
        }
      },
      "cell_type": "code",
      "source": [
        "3 > 10"
      ],
      "execution_count": 0,
      "outputs": [
        {
          "output_type": "execute_result",
          "data": {
            "text/plain": [
              "False"
            ]
          },
          "metadata": {
            "tags": []
          },
          "execution_count": 4
        }
      ]
    },
    {
      "metadata": {
        "id": "YI6TWQ0bHmjP",
        "colab_type": "code",
        "outputId": "d1ddfe03-f06f-4804-d301-2cdd780aa71e",
        "colab": {
          "base_uri": "https://localhost:8080/",
          "height": 34
        }
      },
      "cell_type": "code",
      "source": [
        "3 < 10"
      ],
      "execution_count": 0,
      "outputs": [
        {
          "output_type": "execute_result",
          "data": {
            "text/plain": [
              "True"
            ]
          },
          "metadata": {
            "tags": []
          },
          "execution_count": 6
        }
      ]
    },
    {
      "metadata": {
        "id": "1p-V0RFoHobu",
        "colab_type": "code",
        "outputId": "11457f64-b10b-4f8d-8ebd-dae466e167bf",
        "colab": {
          "base_uri": "https://localhost:8080/",
          "height": 34
        }
      },
      "cell_type": "code",
      "source": [
        "r = 3 < 10\n",
        "r\n",
        "type(r)"
      ],
      "execution_count": 0,
      "outputs": [
        {
          "output_type": "execute_result",
          "data": {
            "text/plain": [
              "bool"
            ]
          },
          "metadata": {
            "tags": []
          },
          "execution_count": 9
        }
      ]
    },
    {
      "metadata": {
        "id": "BbEUAoekI0rK",
        "colab_type": "code",
        "outputId": "72df3644-a639-488d-abe1-9a3f0fe51717",
        "colab": {
          "base_uri": "https://localhost:8080/",
          "height": 50
        }
      },
      "cell_type": "code",
      "source": [
        "num = int(input(\"정수 입력 : \"))\n",
        "if num > 0:\n",
        "  print(\"양의정수\")\n",
        "elif num == 0:\n",
        "  print(\"0\")\n",
        "else:\n",
        "  print(\"음의정수\")"
      ],
      "execution_count": 0,
      "outputs": [
        {
          "output_type": "stream",
          "text": [
            "정수 입력 : 3\n",
            "양의정수\n"
          ],
          "name": "stdout"
        }
      ]
    },
    {
      "metadata": {
        "id": "krg5-lQBM9pz",
        "colab_type": "code",
        "outputId": "f0393bd3-7179-4760-eb70-0e7e1bffbd1b",
        "colab": {
          "base_uri": "https://localhost:8080/",
          "height": 50
        }
      },
      "cell_type": "code",
      "source": [
        "num = int(input(\"정수 입력 : \"))\n",
        "if num == 1:\n",
        "  print(\"1을 입력했습니다.\")\n",
        "elif num == 2:\n",
        "  print(\"2를 입력했습니다.\")\n",
        "elif num == 3:\n",
        "  print(\"3을 입력했습니다.\")\n",
        "else:\n",
        "  print(\"1,2,3 아닌 정수 입력했습니다\")"
      ],
      "execution_count": 0,
      "outputs": [
        {
          "output_type": "stream",
          "text": [
            "정수 입력 : 2\n",
            "2를 입력했습니다.\n"
          ],
          "name": "stdout"
        }
      ]
    },
    {
      "metadata": {
        "id": "TN5OdBHzN8gp",
        "colab_type": "code",
        "outputId": "8d6c345e-70fd-457a-be68-1e1c4b8dae36",
        "colab": {
          "base_uri": "https://localhost:8080/",
          "height": 50
        }
      },
      "cell_type": "code",
      "source": [
        "# 2의 배수이면서 3의 배수인지 확인\n",
        "\n",
        "num = int(input(\"입력 :\"))\n",
        "if num % 2 == 0:\n",
        "  if num % 3 == 0:\n",
        "    print(\"OK\")\n",
        "  else:\n",
        "    print(\"NO\")\n",
        "print(\"NO\")  "
      ],
      "execution_count": 0,
      "outputs": [
        {
          "output_type": "stream",
          "text": [
            "입력 :6\n",
            "OK\n"
          ],
          "name": "stdout"
        }
      ]
    },
    {
      "metadata": {
        "id": "Jg5KDb0cOoIu",
        "colab_type": "code",
        "outputId": "0b358153-1bbe-4d83-9be9-61c74e5c5061",
        "colab": {
          "base_uri": "https://localhost:8080/",
          "height": 50
        }
      },
      "cell_type": "code",
      "source": [
        "num = int(input(\"입력 :\"))\n",
        "if num % 2 == 0 and num % 3 == 0:\n",
        "  print(\"OK\")\n",
        "else:\n",
        "  print(\"NO\")"
      ],
      "execution_count": 0,
      "outputs": [
        {
          "output_type": "stream",
          "text": [
            "입력 :6\n",
            "OK\n"
          ],
          "name": "stdout"
        }
      ]
    },
    {
      "metadata": {
        "id": "naatXGWjPDVA",
        "colab_type": "code",
        "outputId": "fe05f17e-c990-4f3b-ec89-9582964701ba",
        "colab": {
          "base_uri": "https://localhost:8080/",
          "height": 50
        }
      },
      "cell_type": "code",
      "source": [
        "# 연습문제\n",
        "\n",
        "# 키보드로 부터 정수 입력받음\n",
        "# 0이하 : 0보다 작습니다.\n",
        "# 0-9 : 0-9사이입니다\n",
        "# 10-19 : 10-19사이입니다.\n",
        "# 나머지 : 20 이상입니다.\n",
        "\n",
        "num = int(input(\"입력:\"))\n",
        "if num < 0:\n",
        "  print(\"0이하\")\n",
        "elif num < 10 :\n",
        "  print(\"1-9\")\n",
        "elif num < 20 :\n",
        "  print(\"10-19\")\n",
        "else:\n",
        "  print(\"20이상\")"
      ],
      "execution_count": 0,
      "outputs": [
        {
          "output_type": "stream",
          "text": [
            "입력:21\n",
            "20이상\n"
          ],
          "name": "stdout"
        }
      ]
    },
    {
      "metadata": {
        "id": "NGSVSoaFQuaZ",
        "colab_type": "code",
        "outputId": "a6c6d7b9-3385-42f5-98cb-b55b02795150",
        "colab": {
          "base_uri": "https://localhost:8080/",
          "height": 34
        }
      },
      "cell_type": "code",
      "source": [
        ""
      ],
      "execution_count": 0,
      "outputs": [
        {
          "output_type": "execute_result",
          "data": {
            "text/plain": [
              "False"
            ]
          },
          "metadata": {
            "tags": []
          },
          "execution_count": 24
        }
      ]
    },
    {
      "metadata": {
        "id": "6mHTSqEP2m1A",
        "colab_type": "text"
      },
      "cell_type": "markdown",
      "source": [
        "#5장"
      ]
    },
    {
      "metadata": {
        "id": "OLYax2hkVoMp",
        "colab_type": "code",
        "outputId": "53aceef8-df48-4f22-e811-1116f3f7e656",
        "colab": {
          "base_uri": "https://localhost:8080/",
          "height": 84
        }
      },
      "cell_type": "code",
      "source": [
        "for i in [1,2,3]:\n",
        "  print(i, end=\"\\n\")\n",
        "  \n",
        "for i in [1,2,3]:\n",
        "  print(i, end=\" \")"
      ],
      "execution_count": 0,
      "outputs": [
        {
          "output_type": "stream",
          "text": [
            "1\n",
            "2\n",
            "3\n",
            "1 2 3 "
          ],
          "name": "stdout"
        }
      ]
    },
    {
      "metadata": {
        "id": "H2MsIWyFYCSz",
        "colab_type": "code",
        "outputId": "9d40b51e-1701-4197-958f-b2ea66d0c81a",
        "colab": {
          "base_uri": "https://localhost:8080/",
          "height": 34
        }
      },
      "cell_type": "code",
      "source": [
        "# 리스트\n",
        "type([1,2,3])"
      ],
      "execution_count": 0,
      "outputs": [
        {
          "output_type": "execute_result",
          "data": {
            "text/plain": [
              "list"
            ]
          },
          "metadata": {
            "tags": []
          },
          "execution_count": 27
        }
      ]
    },
    {
      "metadata": {
        "id": "t28lJSuQYFIz",
        "colab_type": "code",
        "colab": {}
      },
      "cell_type": "code",
      "source": [
        "l = [1,'hello world',3.3]"
      ],
      "execution_count": 0,
      "outputs": []
    },
    {
      "metadata": {
        "id": "JZK74kN8Rv8Q",
        "colab_type": "code",
        "outputId": "74587acb-38f5-41da-f5b3-562eb432277a",
        "colab": {
          "base_uri": "https://localhost:8080/",
          "height": 34
        }
      },
      "cell_type": "code",
      "source": [
        "type(l[0])"
      ],
      "execution_count": 0,
      "outputs": [
        {
          "output_type": "stream",
          "text": [
            "hello world\n"
          ],
          "name": "stdout"
        }
      ]
    },
    {
      "metadata": {
        "id": "2WVLuUSjUMeV",
        "colab_type": "code",
        "colab": {}
      },
      "cell_type": "code",
      "source": [
        "print(l[1])"
      ],
      "execution_count": 0,
      "outputs": []
    },
    {
      "metadata": {
        "id": "E9-RJtx_T7PP",
        "colab_type": "code",
        "outputId": "6b2790fb-ed44-4c13-a79b-dd5b24216f2b",
        "colab": {
          "base_uri": "https://localhost:8080/",
          "height": 34
        }
      },
      "cell_type": "code",
      "source": [
        "[1,2,3] + [4,5]"
      ],
      "execution_count": 0,
      "outputs": [
        {
          "output_type": "execute_result",
          "data": {
            "text/plain": [
              "[1, 2, 3, 4, 5]"
            ]
          },
          "metadata": {
            "tags": []
          },
          "execution_count": 33
        }
      ]
    },
    {
      "metadata": {
        "id": "bCqXSvU9UAVc",
        "colab_type": "code",
        "outputId": "c600f91f-095a-4707-867e-8ee2e1f74bf2",
        "colab": {
          "base_uri": "https://localhost:8080/",
          "height": 34
        }
      },
      "cell_type": "code",
      "source": [
        "[1,2,3] * 2"
      ],
      "execution_count": 0,
      "outputs": [
        {
          "output_type": "execute_result",
          "data": {
            "text/plain": [
              "[1, 2, 3, 1, 2, 3]"
            ]
          },
          "metadata": {
            "tags": []
          },
          "execution_count": 34
        }
      ]
    },
    {
      "metadata": {
        "id": "mv9_FjtoUQDV",
        "colab_type": "code",
        "outputId": "46dfdaed-de2b-48c2-9454-2039b573633b",
        "colab": {
          "base_uri": "https://localhost:8080/",
          "height": 50
        }
      },
      "cell_type": "code",
      "source": [
        "s = [1,2,3,4,5]\n",
        "s[0] = s[3]\n",
        "print(s)\n",
        "print(s[-1])"
      ],
      "execution_count": 0,
      "outputs": [
        {
          "output_type": "stream",
          "text": [
            "[4, 2, 3, 4, 5]\n",
            "5\n"
          ],
          "name": "stdout"
        }
      ]
    },
    {
      "metadata": {
        "id": "WrGFz5bxUiTM",
        "colab_type": "code",
        "outputId": "d1085a2a-2a2e-4503-a904-14ccf9ebd819",
        "colab": {
          "base_uri": "https://localhost:8080/",
          "height": 34
        }
      },
      "cell_type": "code",
      "source": [
        "# 연습문제 5\n",
        "# 1번째 원소와 마지막 원소 교환하기\n",
        "\n",
        "s = [1,2,3,4,5]\n",
        "s[0],s[-1] = s[-1],s[0]\n",
        "print(s)"
      ],
      "execution_count": 0,
      "outputs": [
        {
          "output_type": "stream",
          "text": [
            "[5, 2, 3, 4, 1]\n"
          ],
          "name": "stdout"
        }
      ]
    },
    {
      "metadata": {
        "id": "StEKyruiU6Ik",
        "colab_type": "code",
        "outputId": "58334daa-07d4-4477-d792-00eb11118a00",
        "colab": {
          "base_uri": "https://localhost:8080/",
          "height": 34
        }
      },
      "cell_type": "code",
      "source": [
        "# 슬라이싱\n",
        "s[0:2]"
      ],
      "execution_count": 0,
      "outputs": [
        {
          "output_type": "execute_result",
          "data": {
            "text/plain": [
              "[5, 2]"
            ]
          },
          "metadata": {
            "tags": []
          },
          "execution_count": 41
        }
      ]
    },
    {
      "metadata": {
        "id": "uf0qxaQAVBKH",
        "colab_type": "code",
        "outputId": "fde35606-f7ae-420e-b66d-a56f61a659da",
        "colab": {
          "base_uri": "https://localhost:8080/",
          "height": 50
        }
      },
      "cell_type": "code",
      "source": [
        "s = [1,2,3,4,5]\n",
        "s[0:1] = [2,3]\n",
        "print(s)\n",
        "s[:2] = [10,20]\n",
        "print(s)"
      ],
      "execution_count": 0,
      "outputs": [
        {
          "output_type": "stream",
          "text": [
            "[2, 3, 2, 3, 4, 5]\n",
            "[10, 20, 2, 3, 4, 5]\n"
          ],
          "name": "stdout"
        }
      ]
    },
    {
      "metadata": {
        "id": "Jl12MgHUVfOW",
        "colab_type": "code",
        "outputId": "73112e49-63e8-4f36-da54-6cb54e10ea49",
        "colab": {
          "base_uri": "https://localhost:8080/",
          "height": 34
        }
      },
      "cell_type": "code",
      "source": [
        "s = [1,2,3,4,5,6,7]\n",
        "s[0:7:2]"
      ],
      "execution_count": 0,
      "outputs": [
        {
          "output_type": "execute_result",
          "data": {
            "text/plain": [
              "[1, 3, 5, 7]"
            ]
          },
          "metadata": {
            "tags": []
          },
          "execution_count": 50
        }
      ]
    },
    {
      "metadata": {
        "id": "UNVC4FoCViH5",
        "colab_type": "code",
        "outputId": "2825b176-51ed-4d46-c1a8-a3879ec599c7",
        "colab": {
          "base_uri": "https://localhost:8080/",
          "height": 34
        }
      },
      "cell_type": "code",
      "source": [
        "s[::2]"
      ],
      "execution_count": 0,
      "outputs": [
        {
          "output_type": "execute_result",
          "data": {
            "text/plain": [
              "[1, 3, 5, 7]"
            ]
          },
          "metadata": {
            "tags": []
          },
          "execution_count": 49
        }
      ]
    },
    {
      "metadata": {
        "id": "yl3xT9EwV__i",
        "colab_type": "code",
        "outputId": "397b33e1-2bc5-4b60-b22b-defc32756281",
        "colab": {
          "base_uri": "https://localhost:8080/",
          "height": 34
        }
      },
      "cell_type": "code",
      "source": [
        "s1 = \"Hello\"\n",
        "s2 = \"World\"\n",
        "print(s1+s2)"
      ],
      "execution_count": 0,
      "outputs": [
        {
          "output_type": "stream",
          "text": [
            "HelloWorld\n"
          ],
          "name": "stdout"
        }
      ]
    },
    {
      "metadata": {
        "id": "s4P3zQj_WF84",
        "colab_type": "code",
        "outputId": "61d151f7-14c5-4cac-8cff-1203b1505c93",
        "colab": {
          "base_uri": "https://localhost:8080/",
          "height": 34
        }
      },
      "cell_type": "code",
      "source": [
        "s1*2"
      ],
      "execution_count": 0,
      "outputs": [
        {
          "output_type": "execute_result",
          "data": {
            "text/plain": [
              "'HelloHello'"
            ]
          },
          "metadata": {
            "tags": []
          },
          "execution_count": 52
        }
      ]
    },
    {
      "metadata": {
        "id": "4RhQk3ZRWIx_",
        "colab_type": "code",
        "outputId": "3413054b-c025-4f51-a9f1-2aa923cc8b08",
        "colab": {
          "base_uri": "https://localhost:8080/",
          "height": 34
        }
      },
      "cell_type": "code",
      "source": [
        "s1[0]"
      ],
      "execution_count": 0,
      "outputs": [
        {
          "output_type": "execute_result",
          "data": {
            "text/plain": [
              "'H'"
            ]
          },
          "metadata": {
            "tags": []
          },
          "execution_count": 53
        }
      ]
    },
    {
      "metadata": {
        "id": "pPiRWg4JWzVR",
        "colab_type": "code",
        "outputId": "4e58cc76-8d4b-4a3c-8131-12db9f016c07",
        "colab": {
          "base_uri": "https://localhost:8080/",
          "height": 34
        }
      },
      "cell_type": "code",
      "source": [
        "s1[0:2]"
      ],
      "execution_count": 0,
      "outputs": [
        {
          "output_type": "execute_result",
          "data": {
            "text/plain": [
              "'He'"
            ]
          },
          "metadata": {
            "tags": []
          },
          "execution_count": 54
        }
      ]
    },
    {
      "metadata": {
        "id": "GDTVPTv3W2sX",
        "colab_type": "code",
        "outputId": "b6b0159a-6678-458c-92a4-93998ca0eea0",
        "colab": {
          "base_uri": "https://localhost:8080/",
          "height": 162
        }
      },
      "cell_type": "code",
      "source": [
        "# 리스트와 달리 문자열은 내용을 바꿀수 없음\n",
        "s1[0] = \"K\""
      ],
      "execution_count": 0,
      "outputs": [
        {
          "output_type": "error",
          "ename": "TypeError",
          "evalue": "ignored",
          "traceback": [
            "\u001b[0;31m---------------------------------------------------------------------------\u001b[0m",
            "\u001b[0;31mTypeError\u001b[0m                                 Traceback (most recent call last)",
            "\u001b[0;32m<ipython-input-55-34e6eb516d9b>\u001b[0m in \u001b[0;36m<module>\u001b[0;34m()\u001b[0m\n\u001b[0;32m----> 1\u001b[0;31m \u001b[0ms1\u001b[0m\u001b[0;34m[\u001b[0m\u001b[0;36m0\u001b[0m\u001b[0;34m]\u001b[0m \u001b[0;34m=\u001b[0m \u001b[0;34m\"K\"\u001b[0m\u001b[0;34m\u001b[0m\u001b[0;34m\u001b[0m\u001b[0m\n\u001b[0m",
            "\u001b[0;31mTypeError\u001b[0m: 'str' object does not support item assignment"
          ]
        }
      ]
    },
    {
      "metadata": {
        "id": "sCkTxrT3XNyW",
        "colab_type": "code",
        "outputId": "2f6a5e4f-1078-4a42-f47f-928a60a05069",
        "colab": {
          "base_uri": "https://localhost:8080/",
          "height": 34
        }
      },
      "cell_type": "code",
      "source": [
        "s1 = \"Kello\"\n",
        "print(s1)"
      ],
      "execution_count": 0,
      "outputs": [
        {
          "output_type": "stream",
          "text": [
            "Kello\n"
          ],
          "name": "stdout"
        }
      ]
    },
    {
      "metadata": {
        "id": "2lg0cMnAXiPL",
        "colab_type": "code",
        "outputId": "72c7c052-4728-4e00-a7df-4375b2991108",
        "colab": {
          "base_uri": "https://localhost:8080/",
          "height": 34
        }
      },
      "cell_type": "code",
      "source": [
        "len([1,2,3])"
      ],
      "execution_count": 0,
      "outputs": [
        {
          "output_type": "execute_result",
          "data": {
            "text/plain": [
              "3"
            ]
          },
          "metadata": {
            "tags": []
          },
          "execution_count": 59
        }
      ]
    },
    {
      "metadata": {
        "id": "J8KK9XhwXkyo",
        "colab_type": "code",
        "outputId": "25bacb65-0958-4326-ef51-fb26e123ef2a",
        "colab": {
          "base_uri": "https://localhost:8080/",
          "height": 34
        }
      },
      "cell_type": "code",
      "source": [
        "def func1():\n",
        "  t = [1,2,3]\n",
        "  return t\n",
        "\n",
        "l = func1()\n",
        "print(l)"
      ],
      "execution_count": 0,
      "outputs": [
        {
          "output_type": "stream",
          "text": [
            "[1, 2, 3]\n"
          ],
          "name": "stdout"
        }
      ]
    },
    {
      "metadata": {
        "id": "MSzTHOagX4dN",
        "colab_type": "code",
        "outputId": "690fe831-2f57-4bda-d421-d918375512ef",
        "colab": {
          "base_uri": "https://localhost:8080/",
          "height": 34
        }
      },
      "cell_type": "code",
      "source": [
        "def func2(t):\n",
        "  t = t + [4,5]\n",
        "  return t\n",
        "\n",
        "l = func2([1,2,3])\n",
        "print(l)"
      ],
      "execution_count": 0,
      "outputs": [
        {
          "output_type": "stream",
          "text": [
            "[1, 2, 3, 4, 5]\n"
          ],
          "name": "stdout"
        }
      ]
    }
  ]
}